{
 "cells": [
  {
   "cell_type": "markdown",
   "metadata": {},
   "source": [
    "# Baccarelli Lab AWS RONIN tutorial_2\n",
    "This is the tutorial#2:\n",
    "- AWS CLI\n",
    "- File transfer using AWS CLI"
   ]
  },
  {
   "cell_type": "markdown",
   "metadata": {},
   "source": [
    "### by Yike Shen, 06/03/2021"
   ]
  },
  {
   "cell_type": "markdown",
   "metadata": {},
   "source": [
    "## Step1: Install AWS Command line interface (AWS CLI)\n",
    "https://blog.ronin.cloud/copying-over-your-data-into-your-new-s3-bucket/"
   ]
  },
  {
   "cell_type": "markdown",
   "metadata": {},
   "source": [
    "### 1.1 Install AWS CLI at your local computer"
   ]
  },
  {
   "cell_type": "code",
   "execution_count": null,
   "metadata": {},
   "outputs": [],
   "source": [
    "#Mac OS\n",
    "#https://docs.aws.amazon.com/cli/latest/userguide/install-cliv2-mac.html\n",
    "#Windows\n",
    "#https://docs.aws.amazon.com/cli/latest/userguide/install-cliv2-windows.html\n",
    "\n",
    "#Manual below for macos\n",
    "#1. Open your terminal\n",
    "\n",
    "#2. Download AWS CLI\n",
    "curl \"https://awscli.amazonaws.com/AWSCLIV2.pkg\" -o \"AWSCLIV2.pkg\"\n",
    "\n",
    "#3. install\n",
    "sudo installer -pkg AWSCLIV2.pkg -target /\n",
    "    #enter your computer password\n",
    "\n",
    "#4. Enter key and password.\n",
    "aws configure\n",
    "    #enter Access key ID and Secret access key from Tess\n",
    "    ## very important! control A, control C, control V\n",
    "    ### Access key is a random number! It's very easy to copy wrong!check the end of your key!\n",
    "    #enter default region: \n",
    "us-east-1\n",
    "\n",
    "#5. #Check if cli installed successfully and worked\n",
    "aws sts get-caller-identity\n",
    "#if successful, you will see UserID, Account"
   ]
  },
  {
   "cell_type": "markdown",
   "metadata": {},
   "source": [
    "### 1.2 Install AWS CLI at AWS RONIN Machine"
   ]
  },
  {
   "cell_type": "code",
   "execution_count": null,
   "metadata": {},
   "outputs": [],
   "source": [
    "#Install AWS CLI in RONIN and authorize access to your AWS S3 bucket\n",
    "sudo apt  install awscli\n",
    "# See if you have succesfully installed aws cli:\n",
    "which aws\n",
    "#If returns below, you have successfully installed AWS CLI\n",
    "/usr/bin/aws\n",
    "#Configure and connect to your AWS S3 bucket\n",
    "aws configure\n",
    "#Enter secret access key ID and key obtained from Tess\n",
    "#Enter the this for pop up region, MUST enter\n",
    "us-east-1"
   ]
  },
  {
   "cell_type": "markdown",
   "metadata": {},
   "source": [
    "## Step 2: File transfer\n",
    "- Always remember to specify you path\n",
    "\n",
    "<br>\n",
    "This tutorial focuses on using command line only. People unfamiliar with commandline can also use cyberduck for file transfer, see tutorial link below:\n",
    "https://blog.ronin.cloud/windows-mac-object-storage/"
   ]
  },
  {
   "cell_type": "markdown",
   "metadata": {},
   "source": [
    "### 2.1 Local Computer <-> AWS S3"
   ]
  },
  {
   "cell_type": "code",
   "execution_count": null,
   "metadata": {},
   "outputs": [],
   "source": [
    "#Execute command at your local terminal\n",
    "\n",
    "#Local computer -> AWS S3\n",
    "aws s3 cp /Users/yikeshen/Desktop/AWS/awsclitest_0603/transfertest_0602.txt s3://yikeshen/\n",
    "\n",
    "#AWS S3->local computer\n",
    "aws s3 cp s3://yikeshen/filetransfer0509.txt /Users/yikeshen/Desktop/AWS/\n"
   ]
  },
  {
   "cell_type": "markdown",
   "metadata": {},
   "source": [
    "### 2.2 AWS S3 <-> RONIN"
   ]
  },
  {
   "cell_type": "code",
   "execution_count": null,
   "metadata": {},
   "outputs": [],
   "source": [
    "#Execute command at RONIN terminal\n",
    "\n",
    "#AWS S3->RONIN\n",
    "#sync a directory\n",
    "aws s3 sync s3://yikeshen/HPC_upgradetest/ /shared/16Stest_0603\n",
    "#copy a file, need an existing directory\n",
    "mkdir shotguntest\n",
    "aws s3 cp s3://yikeshen/GESTE_2020_shotgunRaw/1004_S14_L001_R1_001.fastq.gz /shared/shoguntest\n",
    "    \n",
    "#RONIN->AWS S3\n",
    "aws s3 cp /shared/demo0603/testtransfer_0603.txt s3://yikeshen/\n",
    "#copy every file in directory\n",
    "aws s3 cp /shared/ s3://yikeshen/clustertransfer0603 --recursive\n",
    "#Copy files wit certain character in a folder\n",
    "aws s3 cp s3://yikeshen/GESTE_2020_shotgunRaw/ . --recursive --exclude \"*\" --include \"1004*\"\n",
    "#more about copy command\n",
    "#https://docs.aws.amazon.com/cli/latest/reference/s3/cp.html\n"
   ]
  },
  {
   "cell_type": "markdown",
   "metadata": {},
   "source": [
    "### 2.3 Local Computer <-> RONIN"
   ]
  },
  {
   "cell_type": "code",
   "execution_count": null,
   "metadata": {},
   "outputs": [],
   "source": [
    "#Execute command at your local terminal using scp\n",
    "\n",
    "#Local Computer->RONIN\n",
    "scp -i ~/.ssh/shen-linuxkey_copy.pem transfertest_0602.txt ubuntu@shentest5.msph.cloud:/shared/demo0603\n",
    "\n",
    "#RONIN-> Local Computer\n",
    "scp -i ~/.ssh/shen-linuxkey_copy.pem ubuntu@shentest5.msph.cloud:/shared/demo0603/testtransfer_0603.txt .\n"
   ]
  }
 ],
 "metadata": {
  "kernelspec": {
   "display_name": "Python 3",
   "language": "python",
   "name": "python3"
  },
  "language_info": {
   "codemirror_mode": {
    "name": "ipython",
    "version": 3
   },
   "file_extension": ".py",
   "mimetype": "text/x-python",
   "name": "python",
   "nbconvert_exporter": "python",
   "pygments_lexer": "ipython3",
   "version": "3.8.5"
  }
 },
 "nbformat": 4,
 "nbformat_minor": 4
}
